{
 "metadata": {
  "language_info": {
   "codemirror_mode": {
    "name": "ipython",
    "version": 3
   },
   "file_extension": ".py",
   "mimetype": "text/x-python",
   "name": "python",
   "nbconvert_exporter": "python",
   "pygments_lexer": "ipython3",
   "version": "3.8.1-final"
  },
  "orig_nbformat": 2,
  "kernelspec": {
   "name": "python38132bit143b7204d77547efb6186d729880b365",
   "display_name": "Python 3.8.1 32-bit"
  }
 },
 "nbformat": 4,
 "nbformat_minor": 2,
 "cells": [
  {
   "cell_type": "code",
   "execution_count": 30,
   "metadata": {},
   "outputs": [],
   "source": [
    "# Created by mayurlahane13\n",
    "# https://github.com/mayurlahane13/Data-Scinece-Project/blob/main/data_science_project.ipynb\n",
    "\n",
    "import pandas as pd\n",
    "import matplotlib.pyplot as plt\n",
    "import numpy as np\n",
    "import seaborn as sns\n",
    "import pprint\n",
    "from sklearn.tree import DecisionTreeClassifier\n",
    "from sklearn import preprocessing\n",
    "from sklearn.metrics import confusion_matrix \n",
    "from sklearn.model_selection import train_test_split \n",
    "from sklearn.model_selection import cross_val_score\n",
    "from sklearn.linear_model import LogisticRegression"
   ]
  },
  {
   "cell_type": "code",
   "execution_count": 31,
   "metadata": {},
   "outputs": [
    {
     "output_type": "execute_result",
     "data": {
      "text/plain": [
       "                                              _bkt          _cd  \\\n",
       "0  botsv3~307~F1874916-CBDC-4E45-BC0A-518E1190B08E  307:1010563   \n",
       "1  botsv3~307~F1874916-CBDC-4E45-BC0A-518E1190B08E  307:1010534   \n",
       "2  botsv3~307~F1874916-CBDC-4E45-BC0A-518E1190B08E  307:1010505   \n",
       "3  botsv3~307~F1874916-CBDC-4E45-BC0A-518E1190B08E  307:1010476   \n",
       "4  botsv3~307~F1874916-CBDC-4E45-BC0A-518E1190B08E  307:1010450   \n",
       "5  botsv3~307~F1874916-CBDC-4E45-BC0A-518E1190B08E  307:1010421   \n",
       "6  botsv3~307~F1874916-CBDC-4E45-BC0A-518E1190B08E  307:1010392   \n",
       "7  botsv3~307~F1874916-CBDC-4E45-BC0A-518E1190B08E  307:1010363   \n",
       "8  botsv3~307~F1874916-CBDC-4E45-BC0A-518E1190B08E  307:1010334   \n",
       "9  botsv3~307~F1874916-CBDC-4E45-BC0A-518E1190B08E  307:1010306   \n",
       "\n",
       "  _eventtype_color  _indextime  \\\n",
       "0              NaN  1534777232   \n",
       "1              NaN  1534777232   \n",
       "2              NaN  1534777232   \n",
       "3              NaN  1534777232   \n",
       "4              NaN  1534777232   \n",
       "5              NaN  1534777232   \n",
       "6              NaN  1534777232   \n",
       "7              NaN  1534777232   \n",
       "8              NaN  1534777232   \n",
       "9              NaN  1534777232   \n",
       "\n",
       "                                                _raw     _sourcetype  \\\n",
       "0  {\"requestParameters\": {\"filterSet\": {\"items\": ...  aws:cloudtrail   \n",
       "1  {\"requestParameters\": {\"filterSet\": {\"items\": ...  aws:cloudtrail   \n",
       "2  {\"requestParameters\": {\"filterSet\": {\"items\": ...  aws:cloudtrail   \n",
       "3  {\"requestParameters\": {\"filterSet\": {\"items\": ...  aws:cloudtrail   \n",
       "4  {\"requestParameters\": {\"securityGroupIdSet\": {...  aws:cloudtrail   \n",
       "5  {\"requestParameters\": {\"filterSet\": {\"items\": ...  aws:cloudtrail   \n",
       "6  {\"requestParameters\": {\"filterSet\": {\"items\": ...  aws:cloudtrail   \n",
       "7  {\"requestParameters\": {\"filterSet\": {\"items\": ...  aws:cloudtrail   \n",
       "8  {\"requestParameters\": {\"filterSet\": {\"items\": ...  aws:cloudtrail   \n",
       "9  {\"requestParameters\": {\"filterSet\": {\"items\": ...  aws:cloudtrail   \n",
       "\n",
       "        _time action additionalEventData.LoginTo additionalEventData.MFAUsed  \\\n",
       "0  1534776810    NaN                         NaN                         NaN   \n",
       "1  1534776809    NaN                         NaN                         NaN   \n",
       "2  1534776809    NaN                         NaN                         NaN   \n",
       "3  1534776809    NaN                         NaN                         NaN   \n",
       "4  1534776809    NaN                         NaN                         NaN   \n",
       "5  1534776810    NaN                         NaN                         NaN   \n",
       "6  1534776810    NaN                         NaN                         NaN   \n",
       "7  1534776810    NaN                         NaN                         NaN   \n",
       "8  1534776810    NaN                         NaN                         NaN   \n",
       "9  1534776810    NaN                         NaN                         NaN   \n",
       "\n",
       "   ...                                      user_agent  \\\n",
       "0  ...  Boto/2.47.0 Python/2.7.14 Linux/4.4.0-1062-aws   \n",
       "1  ...  Boto/2.47.0 Python/2.7.14 Linux/4.4.0-1062-aws   \n",
       "2  ...  Boto/2.47.0 Python/2.7.14 Linux/4.4.0-1062-aws   \n",
       "3  ...  Boto/2.47.0 Python/2.7.14 Linux/4.4.0-1062-aws   \n",
       "4  ...  Boto/2.47.0 Python/2.7.14 Linux/4.4.0-1062-aws   \n",
       "5  ...  Boto/2.47.0 Python/2.7.14 Linux/4.4.0-1062-aws   \n",
       "6  ...  Boto/2.47.0 Python/2.7.14 Linux/4.4.0-1062-aws   \n",
       "7  ...  Boto/2.47.0 Python/2.7.14 Linux/4.4.0-1062-aws   \n",
       "8  ...  Boto/2.47.0 Python/2.7.14 Linux/4.4.0-1062-aws   \n",
       "9  ...  Boto/2.47.0 Python/2.7.14 Linux/4.4.0-1062-aws   \n",
       "\n",
       "                                       user_arn user_group_id  \\\n",
       "0  arn:aws:iam::622676721278:user/splunk_access  6.230000e+11   \n",
       "1  arn:aws:iam::622676721278:user/splunk_access  6.230000e+11   \n",
       "2  arn:aws:iam::622676721278:user/splunk_access  6.230000e+11   \n",
       "3  arn:aws:iam::622676721278:user/splunk_access  6.230000e+11   \n",
       "4  arn:aws:iam::622676721278:user/splunk_access  6.230000e+11   \n",
       "5  arn:aws:iam::622676721278:user/splunk_access  6.230000e+11   \n",
       "6  arn:aws:iam::622676721278:user/splunk_access  6.230000e+11   \n",
       "7  arn:aws:iam::622676721278:user/splunk_access  6.230000e+11   \n",
       "8  arn:aws:iam::622676721278:user/splunk_access  6.230000e+11   \n",
       "9  arn:aws:iam::622676721278:user/splunk_access  6.230000e+11   \n",
       "\n",
       "                 user_id user_role user_type               vendor  \\\n",
       "0  AIDAIQDWHFKP2XVDXFKFW       NaN   IAMUser  Amazon Web Services   \n",
       "1  AIDAIQDWHFKP2XVDXFKFW       NaN   IAMUser  Amazon Web Services   \n",
       "2  AIDAIQDWHFKP2XVDXFKFW       NaN   IAMUser  Amazon Web Services   \n",
       "3  AIDAIQDWHFKP2XVDXFKFW       NaN   IAMUser  Amazon Web Services   \n",
       "4  AIDAIQDWHFKP2XVDXFKFW       NaN   IAMUser  Amazon Web Services   \n",
       "5  AIDAIQDWHFKP2XVDXFKFW       NaN   IAMUser  Amazon Web Services   \n",
       "6  AIDAIQDWHFKP2XVDXFKFW       NaN   IAMUser  Amazon Web Services   \n",
       "7  AIDAIQDWHFKP2XVDXFKFW       NaN   IAMUser  Amazon Web Services   \n",
       "8  AIDAIQDWHFKP2XVDXFKFW       NaN   IAMUser  Amazon Web Services   \n",
       "9  AIDAIQDWHFKP2XVDXFKFW       NaN   IAMUser  Amazon Web Services   \n",
       "\n",
       "  vendor_account vendor_region  vpcEndpointId  \n",
       "0   6.230000e+11     us-west-1            NaN  \n",
       "1   6.230000e+11     us-west-1            NaN  \n",
       "2   6.230000e+11     us-west-1            NaN  \n",
       "3   6.230000e+11     us-west-1            NaN  \n",
       "4   6.230000e+11     us-west-1            NaN  \n",
       "5   6.230000e+11     us-west-1            NaN  \n",
       "6   6.230000e+11     us-west-1            NaN  \n",
       "7   6.230000e+11     us-west-1            NaN  \n",
       "8   6.230000e+11     us-west-1            NaN  \n",
       "9   6.230000e+11     us-west-1            NaN  \n",
       "\n",
       "[10 rows x 309 columns]"
      ],
      "text/html": "<div>\n<style scoped>\n    .dataframe tbody tr th:only-of-type {\n        vertical-align: middle;\n    }\n\n    .dataframe tbody tr th {\n        vertical-align: top;\n    }\n\n    .dataframe thead th {\n        text-align: right;\n    }\n</style>\n<table border=\"1\" class=\"dataframe\">\n  <thead>\n    <tr style=\"text-align: right;\">\n      <th></th>\n      <th>_bkt</th>\n      <th>_cd</th>\n      <th>_eventtype_color</th>\n      <th>_indextime</th>\n      <th>_raw</th>\n      <th>_sourcetype</th>\n      <th>_time</th>\n      <th>action</th>\n      <th>additionalEventData.LoginTo</th>\n      <th>additionalEventData.MFAUsed</th>\n      <th>...</th>\n      <th>user_agent</th>\n      <th>user_arn</th>\n      <th>user_group_id</th>\n      <th>user_id</th>\n      <th>user_role</th>\n      <th>user_type</th>\n      <th>vendor</th>\n      <th>vendor_account</th>\n      <th>vendor_region</th>\n      <th>vpcEndpointId</th>\n    </tr>\n  </thead>\n  <tbody>\n    <tr>\n      <th>0</th>\n      <td>botsv3~307~F1874916-CBDC-4E45-BC0A-518E1190B08E</td>\n      <td>307:1010563</td>\n      <td>NaN</td>\n      <td>1534777232</td>\n      <td>{\"requestParameters\": {\"filterSet\": {\"items\": ...</td>\n      <td>aws:cloudtrail</td>\n      <td>1534776810</td>\n      <td>NaN</td>\n      <td>NaN</td>\n      <td>NaN</td>\n      <td>...</td>\n      <td>Boto/2.47.0 Python/2.7.14 Linux/4.4.0-1062-aws</td>\n      <td>arn:aws:iam::622676721278:user/splunk_access</td>\n      <td>6.230000e+11</td>\n      <td>AIDAIQDWHFKP2XVDXFKFW</td>\n      <td>NaN</td>\n      <td>IAMUser</td>\n      <td>Amazon Web Services</td>\n      <td>6.230000e+11</td>\n      <td>us-west-1</td>\n      <td>NaN</td>\n    </tr>\n    <tr>\n      <th>1</th>\n      <td>botsv3~307~F1874916-CBDC-4E45-BC0A-518E1190B08E</td>\n      <td>307:1010534</td>\n      <td>NaN</td>\n      <td>1534777232</td>\n      <td>{\"requestParameters\": {\"filterSet\": {\"items\": ...</td>\n      <td>aws:cloudtrail</td>\n      <td>1534776809</td>\n      <td>NaN</td>\n      <td>NaN</td>\n      <td>NaN</td>\n      <td>...</td>\n      <td>Boto/2.47.0 Python/2.7.14 Linux/4.4.0-1062-aws</td>\n      <td>arn:aws:iam::622676721278:user/splunk_access</td>\n      <td>6.230000e+11</td>\n      <td>AIDAIQDWHFKP2XVDXFKFW</td>\n      <td>NaN</td>\n      <td>IAMUser</td>\n      <td>Amazon Web Services</td>\n      <td>6.230000e+11</td>\n      <td>us-west-1</td>\n      <td>NaN</td>\n    </tr>\n    <tr>\n      <th>2</th>\n      <td>botsv3~307~F1874916-CBDC-4E45-BC0A-518E1190B08E</td>\n      <td>307:1010505</td>\n      <td>NaN</td>\n      <td>1534777232</td>\n      <td>{\"requestParameters\": {\"filterSet\": {\"items\": ...</td>\n      <td>aws:cloudtrail</td>\n      <td>1534776809</td>\n      <td>NaN</td>\n      <td>NaN</td>\n      <td>NaN</td>\n      <td>...</td>\n      <td>Boto/2.47.0 Python/2.7.14 Linux/4.4.0-1062-aws</td>\n      <td>arn:aws:iam::622676721278:user/splunk_access</td>\n      <td>6.230000e+11</td>\n      <td>AIDAIQDWHFKP2XVDXFKFW</td>\n      <td>NaN</td>\n      <td>IAMUser</td>\n      <td>Amazon Web Services</td>\n      <td>6.230000e+11</td>\n      <td>us-west-1</td>\n      <td>NaN</td>\n    </tr>\n    <tr>\n      <th>3</th>\n      <td>botsv3~307~F1874916-CBDC-4E45-BC0A-518E1190B08E</td>\n      <td>307:1010476</td>\n      <td>NaN</td>\n      <td>1534777232</td>\n      <td>{\"requestParameters\": {\"filterSet\": {\"items\": ...</td>\n      <td>aws:cloudtrail</td>\n      <td>1534776809</td>\n      <td>NaN</td>\n      <td>NaN</td>\n      <td>NaN</td>\n      <td>...</td>\n      <td>Boto/2.47.0 Python/2.7.14 Linux/4.4.0-1062-aws</td>\n      <td>arn:aws:iam::622676721278:user/splunk_access</td>\n      <td>6.230000e+11</td>\n      <td>AIDAIQDWHFKP2XVDXFKFW</td>\n      <td>NaN</td>\n      <td>IAMUser</td>\n      <td>Amazon Web Services</td>\n      <td>6.230000e+11</td>\n      <td>us-west-1</td>\n      <td>NaN</td>\n    </tr>\n    <tr>\n      <th>4</th>\n      <td>botsv3~307~F1874916-CBDC-4E45-BC0A-518E1190B08E</td>\n      <td>307:1010450</td>\n      <td>NaN</td>\n      <td>1534777232</td>\n      <td>{\"requestParameters\": {\"securityGroupIdSet\": {...</td>\n      <td>aws:cloudtrail</td>\n      <td>1534776809</td>\n      <td>NaN</td>\n      <td>NaN</td>\n      <td>NaN</td>\n      <td>...</td>\n      <td>Boto/2.47.0 Python/2.7.14 Linux/4.4.0-1062-aws</td>\n      <td>arn:aws:iam::622676721278:user/splunk_access</td>\n      <td>6.230000e+11</td>\n      <td>AIDAIQDWHFKP2XVDXFKFW</td>\n      <td>NaN</td>\n      <td>IAMUser</td>\n      <td>Amazon Web Services</td>\n      <td>6.230000e+11</td>\n      <td>us-west-1</td>\n      <td>NaN</td>\n    </tr>\n    <tr>\n      <th>5</th>\n      <td>botsv3~307~F1874916-CBDC-4E45-BC0A-518E1190B08E</td>\n      <td>307:1010421</td>\n      <td>NaN</td>\n      <td>1534777232</td>\n      <td>{\"requestParameters\": {\"filterSet\": {\"items\": ...</td>\n      <td>aws:cloudtrail</td>\n      <td>1534776810</td>\n      <td>NaN</td>\n      <td>NaN</td>\n      <td>NaN</td>\n      <td>...</td>\n      <td>Boto/2.47.0 Python/2.7.14 Linux/4.4.0-1062-aws</td>\n      <td>arn:aws:iam::622676721278:user/splunk_access</td>\n      <td>6.230000e+11</td>\n      <td>AIDAIQDWHFKP2XVDXFKFW</td>\n      <td>NaN</td>\n      <td>IAMUser</td>\n      <td>Amazon Web Services</td>\n      <td>6.230000e+11</td>\n      <td>us-west-1</td>\n      <td>NaN</td>\n    </tr>\n    <tr>\n      <th>6</th>\n      <td>botsv3~307~F1874916-CBDC-4E45-BC0A-518E1190B08E</td>\n      <td>307:1010392</td>\n      <td>NaN</td>\n      <td>1534777232</td>\n      <td>{\"requestParameters\": {\"filterSet\": {\"items\": ...</td>\n      <td>aws:cloudtrail</td>\n      <td>1534776810</td>\n      <td>NaN</td>\n      <td>NaN</td>\n      <td>NaN</td>\n      <td>...</td>\n      <td>Boto/2.47.0 Python/2.7.14 Linux/4.4.0-1062-aws</td>\n      <td>arn:aws:iam::622676721278:user/splunk_access</td>\n      <td>6.230000e+11</td>\n      <td>AIDAIQDWHFKP2XVDXFKFW</td>\n      <td>NaN</td>\n      <td>IAMUser</td>\n      <td>Amazon Web Services</td>\n      <td>6.230000e+11</td>\n      <td>us-west-1</td>\n      <td>NaN</td>\n    </tr>\n    <tr>\n      <th>7</th>\n      <td>botsv3~307~F1874916-CBDC-4E45-BC0A-518E1190B08E</td>\n      <td>307:1010363</td>\n      <td>NaN</td>\n      <td>1534777232</td>\n      <td>{\"requestParameters\": {\"filterSet\": {\"items\": ...</td>\n      <td>aws:cloudtrail</td>\n      <td>1534776810</td>\n      <td>NaN</td>\n      <td>NaN</td>\n      <td>NaN</td>\n      <td>...</td>\n      <td>Boto/2.47.0 Python/2.7.14 Linux/4.4.0-1062-aws</td>\n      <td>arn:aws:iam::622676721278:user/splunk_access</td>\n      <td>6.230000e+11</td>\n      <td>AIDAIQDWHFKP2XVDXFKFW</td>\n      <td>NaN</td>\n      <td>IAMUser</td>\n      <td>Amazon Web Services</td>\n      <td>6.230000e+11</td>\n      <td>us-west-1</td>\n      <td>NaN</td>\n    </tr>\n    <tr>\n      <th>8</th>\n      <td>botsv3~307~F1874916-CBDC-4E45-BC0A-518E1190B08E</td>\n      <td>307:1010334</td>\n      <td>NaN</td>\n      <td>1534777232</td>\n      <td>{\"requestParameters\": {\"filterSet\": {\"items\": ...</td>\n      <td>aws:cloudtrail</td>\n      <td>1534776810</td>\n      <td>NaN</td>\n      <td>NaN</td>\n      <td>NaN</td>\n      <td>...</td>\n      <td>Boto/2.47.0 Python/2.7.14 Linux/4.4.0-1062-aws</td>\n      <td>arn:aws:iam::622676721278:user/splunk_access</td>\n      <td>6.230000e+11</td>\n      <td>AIDAIQDWHFKP2XVDXFKFW</td>\n      <td>NaN</td>\n      <td>IAMUser</td>\n      <td>Amazon Web Services</td>\n      <td>6.230000e+11</td>\n      <td>us-west-1</td>\n      <td>NaN</td>\n    </tr>\n    <tr>\n      <th>9</th>\n      <td>botsv3~307~F1874916-CBDC-4E45-BC0A-518E1190B08E</td>\n      <td>307:1010306</td>\n      <td>NaN</td>\n      <td>1534777232</td>\n      <td>{\"requestParameters\": {\"filterSet\": {\"items\": ...</td>\n      <td>aws:cloudtrail</td>\n      <td>1534776810</td>\n      <td>NaN</td>\n      <td>NaN</td>\n      <td>NaN</td>\n      <td>...</td>\n      <td>Boto/2.47.0 Python/2.7.14 Linux/4.4.0-1062-aws</td>\n      <td>arn:aws:iam::622676721278:user/splunk_access</td>\n      <td>6.230000e+11</td>\n      <td>AIDAIQDWHFKP2XVDXFKFW</td>\n      <td>NaN</td>\n      <td>IAMUser</td>\n      <td>Amazon Web Services</td>\n      <td>6.230000e+11</td>\n      <td>us-west-1</td>\n      <td>NaN</td>\n    </tr>\n  </tbody>\n</table>\n<p>10 rows × 309 columns</p>\n</div>"
     },
     "metadata": {},
     "execution_count": 31
    }
   ],
   "source": [
    "df = pd.read_csv('./data/dataset.csv')\n",
    "df.head(10)"
   ]
  },
  {
   "cell_type": "code",
   "execution_count": 32,
   "metadata": {},
   "outputs": [
    {
     "output_type": "stream",
     "name": "stdout",
     "text": [
      "[0, 0, 0, 0, 0, 0, 0, 0, 0, 0, 0, 0, 0, 0, 0, 0, 0, 0, 0, 0, 0, 0, 0, 0, 0, 0, 0, 0, 0, 0, 0, 0, 0, 0, 0, 0, 0, 0, 0, 0, 0, 0, 0, 0, 0, 0, 0, 0, 0, 0, 0, 0, 0, 0, 0, 0, 0, 0, 0, 0, 0, 0, 0, 0, 0, 0, 0, 0, 0, 0, 0, 0, 0, 0, 0, 0, 0, 0, 0, 0, 0, 0, 0, 0, 0, 0, 0, 0, 0, 0, 0, 0, 0, 0, 0, 0, 0, 0, 0, 0, 0, 0, 0, 0, 0, 0, 0, 0, 0, 0, 0, 0, 0, 0, 0, 0, 0, 0, 0, 0, 0, 0, 0, 0, 0, 0, 0, 0, 0, 0, 0, 0, 0, 0, 0, 0, 0, 0, 0, 0, 0, 0, 0, 0, 0, 0, 0, 0, 0, 0, 0, 0, 0, 0, 0, 0, 0, 0, 0, 0, 0, 0, 0, 0, 0, 0, 0, 0, 0, 0, 0, 0, 0, 0, 0, 0, 0, 0, 0, 0, 0, 0, 0, 0, 0, 0, 0, 0, 0, 0, 0, 0, 0, 0, 0, 0, 0, 0, 0, 0, 0, 0, 0, 0, 0, 0, 0, 0, 0, 0, 0, 0, 0, 0, 0, 0, 0, 0, 0, 0, 0, 0, 0, 0, 0, 0, 0, 0, 0, 0, 0, 0, 0, 0, 0, 0, 0, 0, 0, 0, 0, 0, 0, 0, 0, 0, 0, 0, 0, 0, 0, 0, 0, 0, 0, 0, 0, 0, 0, 0, 0, 0, 0, 0, 0, 0, 0, 0, 0, 0, 0, 0, 0, 0, 0, 0, 0, 0, 0, 0, 0, 0, 0, 0, 0, 0, 0, 0, 0, 0, 0, 0, 0, 0, 0, 0, 0, 0, 0, 0, 0, 0, 0, 0, 0, 0, 0, 0, 0, 0, 0, 0, 0, 0, 0, 0, 0, 0, 0, 0, 0, 0, 0, 0, 0, 0, 0, 0, 0, 0, 0, 0, 0, 0, 0, 0, 0, 0, 0, 0, 0, 0, 0, 0, 0, 0, 0, 0, 0, 0, 0, 0, 0, 0, 0, 0, 0, 0, 0, 0, 0, 0, 0, 0, 0, 0, 0, 0, 0, 0, 0, 0, 0, 0, 0, 0, 0, 0, 0, 0, 0, 0, 0, 0, 0, 0, 0, 0, 0, 0, 0, 0, 0, 0, 0, 0, 0, 0, 0, 0, 0, 0, 0, 0, 0, 0, 0, 0, 0, 0, 0, 0, 0, 0, 0, 0, 0, 0, 0, 0, 0, 0, 0, 0, 0, 0, 0, 0, 0, 0, 0, 0, 0, 0, 0, 0, 0, 0, 0, 0, 0, 0, 0, 0, 0, 0, 0, 0, 0, 0, 0, 0, 0, 0, 0, 0, 0, 0, 0, 0, 0, 0, 0, 0, 0, 0, 0, 0, 0, 0, 0, 0, 0, 0, 0, 0, 0, 0, 0, 0, 0, 0, 0, 0, 0, 0, 0, 0, 0, 0, 0, 0, 0, 0, 0, 0, 0, 0, 0, 0, 0, 0, 0, 0, 0, 0, 0, 0, 0, 0, 0, 0, 0, 0, 0, 0, 0, 0, 0, 0, 0, 0, 0, 0, 0, 0, 0, 0, 0, 0, 0, 0, 0, 0, 0, 0, 0, 0, 0, 0, 0, 0, 0, 0, 0, 0, 0, 0, 0, 0, 0, 0, 0, 0, 0, 0, 0, 0, 0, 0, 0, 0, 0, 0, 0, 0, 0, 0, 0, 0, 0, 0, 0, 0, 0, 0, 0, 0, 0, 0, 0, 0, 0, 0, 0, 0, 0, 0, 0, 0, 0, 0, 0, 0, 0, 0, 0, 0, 0, 0, 0, 0, 0, 0, 0, 0, 0, 0, 0, 0, 0, 0, 0, 0, 0, 0, 0, 0, 0, 0, 0, 0, 0, 0, 0, 0, 0, 0, 0, 0, 0, 0, 0, 0, 0, 0, 0, 0, 0, 0, 0, 0, 0, 0, 0, 0, 0, 0, 0, 0, 0, 0, 0, 0, 0, 0, 0, 0, 0, 0, 0, 0, 0, 0, 0, 0, 0, 0, 0, 0, 0, 0, 0, 0, 0, 0, 0, 0, 0, 0, 0, 0, 0, 0, 0, 0, 0, 0, 0, 0, 0, 0, 0, 0, 0, 0, 0, 0, 0, 0, 0, 0, 0, 0, 0, 0, 0, 0, 0, 0, 0, 0, 0, 0, 0, 0, 0, 0, 0, 0, 0, 0, 0, 0, 0, 0, 0, 0, 0, 0, 0, 0, 0, 0, 0, 0, 0, 0, 0, 0, 0, 0, 0, 0, 0, 0, 0, 0, 0, 0, 0, 0, 0, 0, 0, 0, 0, 0, 0, 0, 0, 0, 0, 0, 0, 0, 0, 0, 0, 0, 0, 0, 0, 0, 0, 0, 0, 0, 0, 0, 0, 0, 0, 0, 0, 0, 0, 0, 0, 0, 0, 0, 0, 0, 0, 0, 0, 0, 0, 0, 0, 0, 0, 0, 0, 0, 0, 0, 0, 0, 0, 0, 0, 0, 0, 0, 0, 0, 0, 0, 0, 0, 0, 0, 0, 0, 0, 0, 0, 0, 0, 0, 0, 0, 0, 0, 0, 0, 0, 0, 0, 0, 0, 0, 0, 0, 0, 0, 0, 0, 0, 0, 0, 0, 0, 0, 0, 0, 0, 0, 0, 0, 0, 0, 0, 0, 0, 0, 0, 0, 0, 0, 0, 0, 0, 0, 0, 0, 0, 0, 0, 0, 0, 0, 0, 0, 0, 0, 0, 0, 0, 0, 0, 0, 0, 0, 0, 0, 0, 0, 0, 0, 0, 0, 0, 0, 0, 0, 0, 0, 0, 0, 0, 0, 0, 0, 0, 0, 0, 0, 0, 0, 0, 0, 0, 0, 0, 0, 0, 0, 0, 0, 0, 0, 0, 0, 0, 0, 0, 0, 0, 0, 0, 0, 0, 0, 0, 0, 0, 0, 0, 0, 0, 0, 0, 0, 0, 0, 0, 0, 0, 0, 0, 0, 0, 0, 0, 0, 0, 0, 0, 0, 0, 0, 0, 0, 0, 0, 0, 0, 0, 0, 0, 0, 0, 0, 0, 0, 0, 0, 0, 0, 0, 0, 0, 0, 0, 0, 0, 0, 0, 0, 0, 0, 0, 0, 0, 0, 0, 0, 0, 0, 0, 0, 0, 0, 0, 0, 0, 0, 0, 0, 0, 0, 0, 0, 0, 0, 0, 0, 0, 0, 0, 0, 0, 0, 0, 0, 0, 0, 0, 0, 0, 0, 0, 0, 0, 0, 0, 0, 0, 0, 0, 0, 0, 0, 0, 0, 0, 0, 0, 0, 0, 0, 0, 0, 0, 0, 0, 0, 0, 0, 0, 0, 0, 0, 0, 0, 0, 0, 0, 0, 0, 0, 0, 0, 0, 0, 0, 0, 0, 0, 0, 0, 0, 0, 0, 0, 0, 0, 0, 0, 0, 0, 0, 0, 0, 0, 0, 0, 0, 0, 0, 0, 0, 0, 0, 0, 0, 0, 0, 0, 0, 0, 0, 0, 0, 0, 0, 0, 0, 0, 0, 0, 0, 0, 0, 0, 0, 0, 0, 0, 0, 0, 0, 0, 0, 0, 0, 0, 0, 0, 0, 0, 0, 0, 0, 0, 0, 0, 0, 0, 0, 0, 0, 0, 0, 0, 0, 0, 0, 0, 0, 0, 0, 0, 0, 0, 0, 0, 0, 0, 0, 0, 0, 0, 0, 0, 0, 0, 0, 0, 0, 0, 0, 0, 0, 0, 0, 0, 0, 0, 0, 0, 0, 0, 0, 0, 0, 0, 0, 0, 0, 0, 0, 0, 0, 0, 0, 0, 0, 0, 0, 0, 0, 0, 0, 0, 0, 0, 0, 0, 0, 0, 0, 0, 0, 0, 0, 0, 0, 0, 0, 0, 0, 0, 0, 0, 0, 0, 0, 0, 0, 0, 0, 0, 0, 0, 0, 0, 0, 0, 0, 0, 0, 0, 0, 0, 0, 0, 0, 0, 0, 0, 0, 0, 0, 0, 0, 0, 0, 0, 0, 0, 0, 0, 0, 0, 0, 0, 0, 0, 0, 0, 0, 0, 0, 0, 0, 0, 0, 0, 0, 0, 0, 0, 0, 0, 0, 0, 0, 0, 0, 0, 0, 0, 0, 0, 0, 0, 0, 0, 0, 0, 0, 0, 0, 0, 0, 0, 0, 0, 0, 0, 0, 0, 0, 0, 0, 0, 0, 0, 0, 0, 0, 0, 0, 0, 0, 0, 0, 0, 0, 0, 0, 0, 0, 0, 0, 0, 0, 0, 0, 0, 0, 0, 0, 0, 0, 0, 0, 0, 0, 0, 0, 0, 0, 0, 0, 0, 0, 0, 0, 0, 0, 0, 0, 0, 0, 0, 0, 0, 0, 0, 0, 0, 0, 0, 0, 0, 0, 0, 0, 0, 0, 0, 0, 0, 0, 0, 0, 0, 0, 0, 0, 0, 0, 0, 0, 0, 0, 0, 0, 0, 0, 0, 0, 0, 0, 0, 0, 0, 0, 0, 0, 0, 0, 0, 0, 0, 0, 0, 0, 0, 0, 0, 0, 0, 0, 0, 0, 0, 0, 0, 0, 0, 0, 0, 0, 0, 0, 0, 0, 0, 0, 0, 0, 0, 0, 0, 0, 0, 0, 0, 0, 0, 0, 0, 0, 0, 0, 0, 0, 0, 0, 0, 0, 0, 0, 0, 0, 0, 0, 0, 0, 0, 0, 0, 0, 0, 0, 0, 0, 0, 0, 0, 0, 0, 0, 0, 0, 0, 0, 0, 0, 0, 0, 0, 0, 0, 0, 0, 0, 0, 0, 0, 0, 0, 0, 0, 0, 0, 0, 0, 0, 0, 0, 0, 0, 0, 0, 0, 0, 0, 0, 0, 0, 0, 0, 0, 0, 0, 0, 0, 0, 0, 0, 0, 0, 0, 0, 0, 0, 0, 0, 0, 0, 0, 0, 0, 0, 0, 0, 0, 0, 0, 0, 0, 0, 0, 0, 0, 0, 0, 0, 0, 0, 0, 0, 0, 0, 0, 0, 0, 0, 0, 0, 0, 0, 0, 0, 0, 0, 0, 0, 0, 0, 0, 0, 0, 0, 0, 0, 0, 0, 0, 0, 0, 0, 0, 0, 0, 0, 0, 0, 0, 0, 0, 0, 0, 0, 0, 0, 0, 0, 0, 0, 0, 0, 0, 0, 0, 0, 0, 0, 0, 0, 0, 0, 0, 0, 0, 0, 0, 0, 0, 0, 0, 0, 0, 0, 0, 0, 0, 0, 0, 0, 0, 0, 0, 0, 0, 0, 0, 0, 0, 0, 0, 0, 0, 0, 0, 0, 0, 0, 0, 0, 0, 0, 0, 0, 0, 0, 0, 0, 0, 0, 0, 0, 0, 0, 0, 0, 0, 0, 0, 0, 0, 0, 0, 0, 0, 0, 0, 0, 0, 0, 0, 0, 0, 0, 0, 0, 0, 0, 0, 0, 0, 0, 0, 0, 0, 0, 0, 0, 0, 0, 0, 0, 0, 0, 0, 0, 0, 0, 0, 0, 0, 0, 0, 0, 0, 0, 0, 0, 0, 0, 0, 0, 0, 0, 0, 0, 0, 0, 0, 0, 0, 0, 0, 0, 0, 0, 0, 0, 0, 0, 0, 0, 0, 0, 0, 0, 0, 0, 0, 0, 0, 0, 0, 0, 0, 0, 0, 0, 0, 0, 0, 0, 0, 0, 0, 0, 0, 0, 0, 0, 0, 0, 0, 0, 0, 0, 0, 0, 0, 0, 0, 0, 0, 0, 0, 0, 0, 0, 0, 0, 0, 0, 0, 0, 0, 0, 0, 0, 0, 0, 0, 0, 0, 0, 0, 0, 0, 0, 0, 0, 0, 0, 0, 0, 0, 0, 0, 0, 0, 0, 0, 0, 0, 0, 0, 0, 0, 0, 0, 0, 0, 0, 0, 0, 0, 0, 0, 0, 0, 0, 0, 0, 0, 0, 0, 0, 0, 0, 0, 0, 0, 0, 0, 0, 0, 0, 0, 0, 0, 0, 0, 0, 0, 0, 0, 0, 0, 0, 0, 0, 0, 0, 0, 0, 0, 0, 0, 0, 0, 0, 0, 0, 0, 0, 0, 0, 0, 0, 0, 0, 0, 0, 0, 0, 0, 0, 0, 0, 0, 0, 0, 0, 0, 0, 0, 0, 0, 0, 0, 0, 0, 0, 0, 0, 0, 0, 0, 0, 0, 0, 0, 0, 0, 0, 0, 0, 0, 0, 0, 0, 0, 0, 0, 0, 0, 0, 0, 0, 0, 0, 0, 0, 0, 0, 0, 0, 0, 0, 0, 0, 0, 0, 0, 0, 0, 0, 0, 0, 0, 0, 0, 0, 0, 0, 0, 0, 0, 0, 0, 0, 0, 0, 0, 0, 0, 0, 0, 0, 0, 0, 0, 0, 0, 0, 0, 0, 0, 0, 0, 0, 0, 0, 0, 0, 0, 0, 0, 0, 0, 0, 0, 0, 0, 0, 0, 0, 0, 0, 0, 0, 0, 0, 0, 0, 0, 0, 0, 0, 0, 0, 0, 0, 0, 0, 0, 0, 0, 0, 0, 0, 0, 0, 0, 0, 0, 0, 0, 0, 0, 0, 0, 0, 0, 0, 0, 0, 0, 0, 0, 0, 0, 0, 0, 0, 0, 0, 0, 0, 0, 0, 0, 0, 0, 0, 0, 0, 0, 0, 0, 0, 0, 0, 0, 0, 0, 0, 0, 0, 0, 0, 0, 0, 0, 0, 0, 0, 0, 0, 0, 0, 0, 0, 0, 0, 0, 0, 0, 0, 0, 0, 0, 0, 0, 0, 0, 0, 0, 0, 0, 0, 0, 0, 0, 0, 0, 0, 0, 0, 0, 0, 0, 0, 0, 0, 0, 0, 0, 0, 0, 0, 0, 0, 0, 0, 0, 0, 0, 0, 0, 0, 0, 0, 0, 0, 0, 0, 0, 0, 0, 0, 0, 0, 0, 0, 0, 0, 0, 0, 0, 0, 0, 0, 0, 0, 0, 0, 0, 0, 0, 0, 0, 0, 0, 0, 0, 0, 0, 0, 0, 0, 0, 0, 0, 0, 0, 0, 0, 0, 0, 0, 0, 0, 0, 0, 0, 0, 0, 0, 0, 0, 0, 0, 0, 0, 0, 0, 0, 0, 0, 0, 0, 0, 0, 0, 0, 0, 0, 0, 0, 0, 0, 0, 0, 0, 0, 0, 0, 0, 0, 0, 0, 0, 0, 0, 0, 0, 0, 0, 0, 0, 0, 0, 0, 0, 0, 0, 0, 0, 0, 0, 0, 0, 0, 0, 0, 0, 0, 0, 0, 0, 0, 0, 0, 0, 0, 0, 0, 0, 0, 0, 0, 0, 0, 0, 0, 0, 0, 0, 0, 0, 0, 0, 0, 0, 0, 0, 0, 0, 0, 0, 0, 0, 0, 0, 0, 0, 0, 0, 0, 0, 0, 0, 0, 0, 0, 0, 0, 0, 0, 0, 0, 0, 0, 0, 0, 0, 0, 0, 0, 0, 0, 0, 0, 0, 0, 0, 0, 0, 0, 0, 0, 0, 0, 0, 0, 0, 0, 0, 0, 0, 0, 0, 0, 0, 0, 0, 0, 0, 0, 0, 0, 0, 0, 0, 0, 0, 0, 0, 0, 0, 0, 0, 0, 0, 0, 0, 0, 0, 0, 0, 0, 0, 0, 0, 0, 0, 0, 0, 0, 0, 0, 0, 0, 0, 0, 0, 0, 0, 0, 0, 0, 0, 0, 0, 0, 0, 0, 0, 0, 0, 0, 0, 0, 0, 0, 0, 0, 0, 0, 0, 0, 0, 0, 0, 0, 0, 0, 0, 0, 0, 0, 0, 0, 0, 0, 0, 0, 0, 0, 0, 0, 0, 0, 0, 0, 0, 0, 0, 0, 0, 0, 0, 0, 0, 0, 0, 0, 0, 0, 0, 0, 0, 0, 0, 0, 0, 0, 0, 0, 0, 0, 0, 0, 0, 0, 0, 0, 0, 0, 0, 0, 0, 0, 0, 0, 0, 0, 0, 0, 0, 0, 0, 0, 0, 0, 0, 0, 0, 0, 0, 0, 0, 0, 0, 0, 0, 0, 0, 0, 0, 0, 0, 0, 0, 0, 0, 0, 0, 0, 0, 0, 0, 0, 0, 0, 0, 0, 0, 0, 0, 0, 0, 0, 0, 0, 0, 0, 0, 0, 0, 0, 0, 0, 0, 0, 0, 0, 0, 0, 0, 0, 0, 0, 0, 0, 0, 0, 0, 0, 0, 0, 0, 0, 0, 0, 0, 0, 0, 0, 0, 0, 0, 0, 0, 0, 0, 0, 0, 0, 0, 0, 0, 0, 0, 0, 0, 0, 0, 0, 0, 0, 0, 0, 0, 0, 0, 0, 0, 0, 0, 0, 0, 0, 0, 0, 0, 0, 0, 0, 0, 0, 0, 0, 0, 0, 0, 0, 0, 0, 0, 0, 0, 0, 0, 0, 0, 0, 0, 0, 0, 0, 0, 0, 0, 0, 0, 0, 0, 0, 0, 0, 0, 0, 0, 0, 0, 0, 0, 0, 0, 0, 0, 0, 0, 0, 0, 0, 0, 0, 0, 0, 0, 0, 0, 0, 0, 0, 0, 0, 0, 0, 0, 0, 0, 0, 0, 0, 0, 0, 0, 0, 0, 0, 0, 0, 0, 0, 0, 0, 0, 0, 0, 0, 0, 0, 0, 0, 0, 0, 0, 0, 0, 0, 0, 0, 0, 0, 0, 0, 0, 0, 0, 0, 0, 0, 0, 0, 0, 0, 0, 0, 0, 0, 0, 0, 0, 0, 0, 0, 0, 0, 0, 0, 0, 0, 0, 0, 0, 0, 0, 0, 0, 0, 0, 0, 0, 0, 0, 0, 0, 0, 0, 0, 0, 0, 0, 0, 0, 0, 0, 0, 0, 0, 0, 0, 0, 0, 0, 0, 0, 0, 0, 0, 0, 0, 0, 0, 0, 0, 0, 0, 0, 0, 0, 0, 0, 0, 0, 0, 0, 0, 0, 0, 0, 0, 0, 0, 0, 0, 0, 0, 0, 0, 0, 0, 0, 0, 0, 0, 0, 0, 0, 0, 0, 0, 0, 0, 0, 0, 0, 0, 0, 0, 0, 0, 0, 0, 0, 0, 0, 0, 0, 0, 0, 0, 0, 0, 0, 0, 0, 0, 0, 0, 0, 0, 0, 0, 0, 0, 0, 0, 0, 0, 0, 0, 0, 0, 0, 0, 0, 0, 0, 0, 0, 0, 0, 0, 0, 0, 0, 0, 0, 0, 0, 0, 0, 0, 0, 0, 0, 0, 0, 0, 0, 0, 0, 0, 0, 0, 0, 0, 0, 0, 0, 0, 0, 0, 0, 0, 0, 0, 0, 0, 0, 0, 0, 0, 0, 0, 0, 0, 0, 0, 0, 0, 0, 0, 0, 0, 0, 0, 0, 0, 0, 0, 0, 0, 0, 0, 0, 0, 0, 0, 0, 0, 0, 0, 0, 0, 0, 0, 0, 0, 0, 0, 0, 0, 0, 0, 0, 0, 0, 0, 0, 0, 0, 0, 0, 0, 0, 0, 0, 0, 0, 0, 0, 0, 0, 0, 0, 0, 0, 0, 0, 0, 0, 0, 0, 0, 0, 0, 0, 0, 0, 0, 0, 0, 0, 0, 0, 0, 0, 0, 0, 0, 0, 0, 0, 0, 0, 0, 0, 0, 0, 0, 0, 0, 0, 0, 0, 0, 0, 0, 0, 0, 0, 0, 0, 0, 0, 0, 0, 0, 0, 0, 0, 0, 0, 0, 0, 0, 0, 0, 0, 0, 0, 0, 0, 0, 0, 0, 0, 0, 0, 0, 0, 0, 0, 0, 0, 0, 0, 0, 0, 0, 0, 0, 0, 0, 0, 0, 0, 0, 0, 0, 0, 0, 0, 0, 0, 0, 0, 0, 0, 0, 0, 0, 0, 0, 0, 0, 0, 0, 0, 0, 0, 0, 0, 0, 0, 0, 0, 0, 0, 0, 0, 0, 0, 0, 0, 0, 0, 0, 0, 0, 0, 0, 0, 0, 0, 0, 0, 0, 0, 0, 0, 0, 0, 0, 0, 0, 0, 0, 0, 0, 0, 0, 0, 0, 0, 0, 0, 0, 0, 0, 0, 0, 0, 0, 0, 0, 0, 0, 0, 0, 0, 0, 0, 0, 0, 0, 0, 0, 0, 0, 0, 0, 0, 0, 0, 0, 0, 0, 0, 0, 0, 0, 0, 0, 0, 0, 0, 0, 0, 0, 0, 0, 0, 0, 0, 0, 0, 0, 0, 0, 0, 0, 0, 0, 0, 0, 0, 0, 0, 0, 0, 0, 0, 0, 0, 0, 0, 0, 0, 0, 0, 0, 0, 0, 0, 0, 0, 0, 0, 0, 0, 0, 0, 0, 0, 0, 0, 0, 0, 0, 0, 0, 0, 0, 0, 0, 0, 0, 0, 0, 0, 0, 0, 0, 0, 0, 0, 0, 0, 0, 0, 0, 0, 0, 0, 0, 0, 0, 0, 0, 0, 0, 0, 0, 0, 0, 0, 0, 0, 0, 0, 0, 0, 0, 0, 0, 0, 0, 0, 0, 0, 0, 0, 0, 0, 0, 0, 0, 0, 0, 0, 0, 0, 0, 0, 0, 0, 0, 0, 0, 0, 0, 0, 0, 0, 0, 0, 0, 0, 0, 0, 0, 0, 0, 0, 0, 0, 0, 0, 0, 0, 0, 0, 0, 0, 0, 0, 0, 0, 0, 0, 0, 0, 0, 0, 0, 0, 0, 0, 0, 0, 0, 0, 0, 0, 0, 0, 0, 0, 0, 0, 0, 0, 0, 0, 0, 0, 0, 0, 0, 0, 0, 0, 0, 0, 0, 0, 0, 0, 0, 0, 0, 0, 0, 0, 0, 0, 0, 0, 0, 0, 0, 0, 0, 0, 0, 0, 0, 0, 0, 0, 0, 0, 0, 0, 0, 0, 0, 0, 0, 0, 0, 0, 0, 0, 0, 0, 0, 0, 0, 0, 0, 0, 0, 0, 0, 0, 0, 0, 0, 0, 0, 0, 0, 0, 0, 0, 0, 0, 0, 0, 0, 0, 0, 0, 0, 0, 0, 0, 0, 0, 0, 0, 0, 0, 0, 0, 0, 0, 0, 0, 0, 0, 0, 0, 0, 0, 0, 0, 0, 0, 0, 0, 0, 0, 0, 0, 0, 0, 0, 0, 0, 0, 0, 0, 0, 0, 0, 0, 0, 0, 0, 0, 0, 0, 0, 0, 0, 0, 0, 0, 0, 0, 0, 0, 0, 0, 0, 0, 0, 0, 0, 0, 0, 0, 0, 0, 0, 0, 0, 0, 0, 0, 0, 0, 0, 0, 0, 0, 0, 0, 0, 0, 0, 0, 0, 0, 0, 0, 0, 0, 0, 0, 0, 0, 0, 0, 0, 0, 0, 0, 0, 0, 0, 0, 0, 0, 0, 0, 0, 0, 0, 0, 0, 0, 0, 0, 0, 0, 0, 0, 0, 0, 0, 0, 0, 0, 0, 0, 0, 0, 0, 0, 0, 0, 0, 0, 0, 0, 0, 0, 0, 0, 0, 0, 0, 0, 0, 0, 0, 0, 0, 0, 0, 0, 0, 0, 0, 0, 0, 0, 0, 0, 0, 0, 0, 0, 0, 0, 0, 0, 0, 0, 0, 0, 0, 0, 0, 0, 0, 0, 0, 0, 0, 0, 0, 0, 0, 0, 0, 0, 0, 0, 0, 0, 0, 0, 0, 0, 0, 0, 0, 0, 0, 0, 0, 0, 0, 0, 0, 0, 0, 0, 0, 0, 0, 0, 0, 0, 0, 0, 0, 0, 0, 0, 0, 0, 0, 0, 0, 0, 0, 0, 0, 0, 0, 0, 0, 0, 0, 0, 0, 0, 0, 0, 0, 0, 0, 0, 0, 0, 0, 0, 0, 0, 0, 0, 0, 0, 0, 0, 0, 0, 0, 0, 0, 0, 0, 0, 0, 0, 0, 0, 0, 0, 0, 0, 0, 0, 0, 0, 0, 0, 0, 0, 0, 0, 0, 0, 0, 0, 0, 0, 0, 0, 0, 0, 0, 0, 0, 0, 0, 0, 0, 0, 0, 0, 0, 0, 0, 0, 0, 0, 0, 0, 0, 0, 0, 0, 0, 0, 0, 0, 0, 0, 0, 0, 0, 0, 0, 0, 0, 0, 0, 0, 0, 0, 0, 0, 0, 0, 0, 0, 0, 0, 0, 0, 0, 0, 0, 0, 0, 0, 0, 0, 0, 0, 0, 0, 0, 0, 0, 0, 0, 0, 0, 0, 0, 0, 0, 0, 0, 0, 0, 0, 0, 0, 0, 0, 0, 0, 0, 0, 0, 0, 0, 0, 0, 0, 0, 0, 0, 0, 0, 0, 0, 0, 0, 0, 0, 0, 0, 0, 0, 0, 0, 0, 0, 0, 0, 0, 0, 0, 0, 0, 0, 0, 0, 0, 0, 0, 0, 0, 0, 0, 0, 0, 0, 0, 0, 0, 0, 0, 0, 0, 0, 0, 0, 0, 0, 0, 0, 0, 0, 0, 0, 0, 0, 0, 0, 0, 0, 0, 0, 0, 0, 0, 0, 0, 0, 0, 0, 0, 0, 0, 0, 0, 0, 0, 0, 0, 0, 0, 0, 0, 0, 0, 0, 0, 0, 0, 0, 0, 0, 0, 0, 0, 0, 0, 0, 0, 0, 0, 0, 0, 0, 0, 0, 0, 0, 0, 0, 0, 0, 0, 0, 0, 0, 0, 0, 0, 0, 0, 0, 0, 0, 0, 0, 0, 0, 0, 0, 0, 0, 0, 0, 0, 0, 0, 0, 0, 0, 0, 0, 0, 0, 0, 0, 0, 0, 0, 0, 0, 0, 0, 0, 0, 0, 0, 0, 0, 0, 0, 0, 0, 0, 0, 0, 0, 0, 0, 0, 0, 0, 0, 0, 0, 0, 0, 0, 0, 0, 0, 0, 0, 0, 0, 0, 0, 0, 0, 0, 0, 0, 0, 0, 0, 0, 0, 0, 0, 0, 0, 0, 0, 0, 0, 0, 0, 0, 0, 0, 0, 0, 0, 0, 0, 0, 0, 0, 0, 0, 0, 0, 0, 0, 0, 0, 0, 0, 0, 0, 0, 0, 0, 0, 0, 0, 0, 0, 0, 0, 0, 0, 0, 0, 0, 0, 0, 0, 0, 0, 0, 0, 0, 0, 0, 0, 0, 0, 0, 0, 0, 0, 0, 0, 0, 0, 0, 0, 0, 0, 0, 0, 0, 0, 0, 0, 0, 0, 0, 0, 0, 0, 0, 0, 0, 0, 0, 0, 0, 0, 0, 0, 0, 0, 0, 0, 0, 0, 0, 0, 0, 0, 0, 0, 0, 0, 0, 0, 0, 0, 0, 0, 0, 0, 0, 0, 0, 0, 0, 0, 0, 0, 0, 0, 0, 0, 0, 0, 0, 0, 0, 0, 0, 0, 0, 0, 0, 0, 0, 0, 0, 0, 0, 0, 0, 0, 0, 0, 0, 0, 0, 0, 0, 0, 0, 0, 0, 0, 0, 0, 0, 0, 0, 0, 0, 0, 0, 0, 0, 0, 0, 0, 0, 0, 0, 0, 0, 0, 0, 0, 0, 0, 0, 0, 0, 0, 0, 0, 0, 0, 0, 0, 0, 0, 0, 0, 0, 0, 0, 0, 0, 0, 0, 0, 0, 0, 0, 0, 0, 0, 0, 0, 0, 0, 0, 0, 0, 0, 0, 0, 0, 0, 0, 0, 0, 0, 0, 0, 0, 0, 0, 0, 0, 0, 0, 0, 0, 0, 0, 0, 0, 0, 0, 0, 0, 0, 0, 0, 0, 0, 0, 0, 0, 0, 0, 0, 0, 0, 0, 0, 0, 0, 0, 0, 0, 0, 0, 0, 0, 0, 0, 0, 0, 0, 0, 0, 0, 0, 0, 0, 0, 0, 0, 0, 0, 0, 0, 0, 0, 0, 0, 0, 0, 0, 0, 0, 0, 0, 0, 0, 0, 0, 0, 0, 0, 0, 0, 0, 0, 0, 0, 0, 0, 0, 0, 0, 0, 0, 0, 0, 0, 0, 0, 0, 0, 0, 0, 0, 0, 0, 0, 0, 0, 0, 0, 0, 0, 0, 0, 0, 0, 0, 0, 0, 0, 0, 0, 0, 0, 0, 0, 0, 0, 0, 0, 0, 0, 0, 0, 0, 0, 0, 0, 0, 0, 0, 0, 0, 0, 0, 0, 0, 0, 0, 0, 0, 0, 0, 0, 0, 0, 0, 0, 0, 0, 0, 0, 0, 0, 0, 0, 0, 0, 0, 0, 0, 0, 0, 0, 0, 0, 0, 0, 0, 0, 0, 0, 0, 0, 0, 0, 0, 0, 0, 0, 0, 0, 0, 0, 0, 0, 0, 0, 0, 0, 0, 0, 0, 0, 0, 0, 0, 0, 0, 0, 0, 0, 0, 0, 0, 0, 0, 0, 0, 0, 0, 0, 0, 0, 0, 0, 0, 0, 0, 0, 0, 0, 0, 0, 0, 0, 0, 0, 0, 0, 0, 0, 0, 0, 0, 0, 0, 0, 0, 0, 0, 0, 0, 0, 0, 0, 0, 0, 0, 0, 0, 0, 0, 0, 0, 0, 0, 0, 0, 0, 0, 0, 0, 0, 0, 0, 0, 0, 0, 0, 0, 0, 0, 0, 0, 0, 0, 0, 0, 0, 0, 0, 0, 0, 0, 0, 0, 0, 0, 0, 0, 0, 0, 0, 0, 0, 0, 0, 0, 0, 0, 0, 0, 0, 0, 0, 0, 0, 0, 0, 0, 0, 0, 0, 0, 0, 0, 0, 0, 0, 0, 0, 0, 0, 0, 1, 1, 1, 1, 1, 1, 1, 1, 1, 1, 1, 1, 1, 1, 1, 1, 1, 1, 1, 1, 1, 1, 1, 1, 1, 1, 1, 1, 1, 1, 1, 1, 1, 1, 1, 1, 1, 1, 1, 1, 1, 1, 1, 1, 1, 1, 1, 1, 1, 1, 1, 1, 1, 1, 0, 0, 0, 0, 0, 0, 0, 0, 0, 0, 0, 0, 0, 0, 0, 0, 0, 0, 0, 0, 0, 0, 0, 0, 0, 0, 0, 0, 0, 0, 0, 1, 1, 1, 1, 1, 1, 1, 1, 1, 1, 1, 1, 1, 1, 1, 1, 1, 1, 1, 1, 1, 1, 1, 1, 1, 1, 1, 1, 1, 1, 1, 1, 1, 1, 1, 1, 1, 1, 1, 1, 1, 1, 1, 1, 1, 1, 1, 1, 1, 1, 1, 1, 1, 1, 1, 1, 1, 1, 1, 1, 1, 1, 1, 1, 1, 1, 1, 1, 1, 1, 1, 1, 1, 1, 1, 1, 1, 1, 1, 1, 1, 1, 1, 1, 1, 1, 1, 1, 1, 1, 1, 1, 1, 1, 1, 1, 1, 1, 1, 1, 1, 1, 1, 1, 1, 1, 1, 1, 1, 1, 1, 1, 1, 1, 1, 1, 1, 1, 1, 1, 1, 1, 1, 1, 1, 1, 1, 1, 1, 1, 1, 1, 1, 1, 1, 1, 1, 1, 1, 1, 1, 1, 1, 1, 1, 1, 1, 1, 1, 1, 1, 1, 1, 0, 1, 1, 0, 1, 0, 0, 0, 0, 1, 1, 1, 0, 0, 1, 0, 1, 1, 1, 1, 1, 0, 0, 0, 0, 0, 0, 0, 0, 0, 1, 1, 1, 1, 1, 1, 1, 1, 1, 1, 1, 1, 1, 1, 1, 1, 1, 1, 1, 1, 1, 1, 1, 1, 1, 1, 1, 1, 1, 1, 1, 1, 1, 1, 1, 1, 1, 1, 1, 1, 1, 1, 1, 0, 0, 1, 1, 1, 1, 1, 1, 1, 1, 1, 1, 1, 1, 1, 1, 1, 1, 1, 1, 1, 1, 1, 1, 1, 1, 1, 1, 1, 1, 1, 1, 1, 1, 1, 1, 1, 1, 1, 1, 1, 1, 1, 0, 0, 0, 0, 0, 0, 0, 0, 0, 0, 0, 0, 0, 0, 0, 0, 0, 0, 0, 0, 0, 0, 0, 0, 0, 0, 0, 0, 0, 0, 0, 0, 0, 0, 0, 1, 1, 1, 1, 1, 1, 1, 1, 1, 1, 1, 1, 1, 0, 1, 0, 0, 1, 1, 1, 1, 1, 1, 1, 1, 1, 1, 1, 1, 1, 1, 1, 1, 1, 1, 1, 1, 1, 1, 1, 1, 1, 1, 1, 1, 1, 1, 1, 1, 1, 1, 1, 1, 1, 1, 1, 1, 1, 1, 1, 1, 1, 1, 1, 1, 1, 1, 1, 1, 1, 1, 1, 1, 1, 1, 1, 1, 1, 1, 1, 1, 1, 1, 1, 1, 1, 1, 1, 1, 1, 1, 1, 1, 1, 1, 1, 1, 1, 1, 1, 1, 1, 1, 1, 1, 1, 1, 1, 1, 1, 1, 1, 1, 1, 1, 1, 1, 1, 1, 1, 1, 1, 1, 1, 1, 1, 1, 1, 1, 1, 1, 1, 1, 1, 1, 0, 0, 1, 1, 1, 1, 1, 1, 1, 1, 1, 1, 1, 1, 1, 1, 1, 1, 1, 1, 1, 1, 1, 1, 1, 1, 1, 1, 1, 1, 1, 1, 1, 1, 1, 1, 1, 1, 1, 1, 1, 1, 1, 1, 1, 1, 1, 1, 0, 1, 0, 0, 0, 1, 1, 0, 1, 1, 1, 1, 1, 1, 1, 1, 1, 1, 1, 1, 1, 1, 0, 0, 0, 0, 0, 0, 0, 0, 0, 0, 0, 0, 0, 0, 0, 0, 0, 0, 0, 0, 0, 0, 0, 0, 0, 0, 0, 0, 0, 0, 0, 0, 0, 0, 0, 0, 0, 0, 0, 0, 0, 0, 0, 0, 0, 0, 0, 0, 0, 0, 0, 0, 0, 0, 0, 0, 0, 1, 1, 1, 1, 1, 1, 1, 1, 1, 1, 1, 1, 1, 1, 1, 1, 1, 1, 1, 1, 1, 1, 1, 1, 1, 1, 1, 1, 1, 1, 1, 1, 1, 1, 1, 0, 0, 0, 0, 0, 0, 0, 0, 0, 0, 1, 1, 1, 1, 1, 1, 1, 1, 1, 1, 1, 1, 1, 1, 1, 1, 0, 0, 1, 1, 1, 1, 1, 1, 1, 1, 1, 1, 1, 1, 1, 1, 1, 1, 1, 1, 1, 1, 1, 1, 1, 1, 1, 1, 1, 1, 1, 1, 1, 1, 1, 1, 1, 1, 1, 1, 1, 1, 1, 0, 0, 0, 0, 0, 0, 0, 0, 0, 0, 0, 0, 0, 0, 0, 0, 0, 0, 0, 0, 0, 0, 0, 0, 0, 0, 0, 0, 0, 0, 0, 1, 1, 1, 1, 1, 1, 1, 1, 1, 1, 1, 1, 1, 1, 1, 1, 1, 1, 1, 1, 1, 1, 1, 1, 1, 1, 1, 1, 1, 1, 1, 1, 1, 1, 1, 1, 1, 1, 1, 1, 1, 1, 0, 0, 0, 1, 1, 1, 1, 1]\n"
     ]
    }
   ],
   "source": [
    "maliciousIPClass = []\n",
    "for i in df['sourceIPAddress']:\n",
    "    if i == '139.198.18.205':\n",
    "        maliciousIPClass.append(1)\n",
    "    else:\n",
    "        maliciousIPClass.append(0)\n",
    "\n",
    "print(maliciousIPClass)"
   ]
  },
  {
   "cell_type": "code",
   "execution_count": 34,
   "metadata": {},
   "outputs": [
    {
     "output_type": "execute_result",
     "data": {
      "text/plain": [
       "                                              _bkt          _cd  \\\n",
       "0  botsv3~307~F1874916-CBDC-4E45-BC0A-518E1190B08E  307:1010563   \n",
       "1  botsv3~307~F1874916-CBDC-4E45-BC0A-518E1190B08E  307:1010534   \n",
       "2  botsv3~307~F1874916-CBDC-4E45-BC0A-518E1190B08E  307:1010505   \n",
       "3  botsv3~307~F1874916-CBDC-4E45-BC0A-518E1190B08E  307:1010476   \n",
       "4  botsv3~307~F1874916-CBDC-4E45-BC0A-518E1190B08E  307:1010450   \n",
       "\n",
       "  _eventtype_color          _indextime  \\\n",
       "0              NaN 2018-08-20 15:00:32   \n",
       "1              NaN 2018-08-20 15:00:32   \n",
       "2              NaN 2018-08-20 15:00:32   \n",
       "3              NaN 2018-08-20 15:00:32   \n",
       "4              NaN 2018-08-20 15:00:32   \n",
       "\n",
       "                                                _raw     _sourcetype  \\\n",
       "0  {\"requestParameters\": {\"filterSet\": {\"items\": ...  aws:cloudtrail   \n",
       "1  {\"requestParameters\": {\"filterSet\": {\"items\": ...  aws:cloudtrail   \n",
       "2  {\"requestParameters\": {\"filterSet\": {\"items\": ...  aws:cloudtrail   \n",
       "3  {\"requestParameters\": {\"filterSet\": {\"items\": ...  aws:cloudtrail   \n",
       "4  {\"requestParameters\": {\"securityGroupIdSet\": {...  aws:cloudtrail   \n",
       "\n",
       "                _time action additionalEventData.LoginTo  \\\n",
       "0 2018-08-20 14:53:30    NaN                         NaN   \n",
       "1 2018-08-20 14:53:29    NaN                         NaN   \n",
       "2 2018-08-20 14:53:29    NaN                         NaN   \n",
       "3 2018-08-20 14:53:29    NaN                         NaN   \n",
       "4 2018-08-20 14:53:29    NaN                         NaN   \n",
       "\n",
       "  additionalEventData.MFAUsed  ...  \\\n",
       "0                         NaN  ...   \n",
       "1                         NaN  ...   \n",
       "2                         NaN  ...   \n",
       "3                         NaN  ...   \n",
       "4                         NaN  ...   \n",
       "\n",
       "                                       user_arn user_group_id  \\\n",
       "0  arn:aws:iam::622676721278:user/splunk_access  6.230000e+11   \n",
       "1  arn:aws:iam::622676721278:user/splunk_access  6.230000e+11   \n",
       "2  arn:aws:iam::622676721278:user/splunk_access  6.230000e+11   \n",
       "3  arn:aws:iam::622676721278:user/splunk_access  6.230000e+11   \n",
       "4  arn:aws:iam::622676721278:user/splunk_access  6.230000e+11   \n",
       "\n",
       "                 user_id user_role user_type               vendor  \\\n",
       "0  AIDAIQDWHFKP2XVDXFKFW       NaN   IAMUser  Amazon Web Services   \n",
       "1  AIDAIQDWHFKP2XVDXFKFW       NaN   IAMUser  Amazon Web Services   \n",
       "2  AIDAIQDWHFKP2XVDXFKFW       NaN   IAMUser  Amazon Web Services   \n",
       "3  AIDAIQDWHFKP2XVDXFKFW       NaN   IAMUser  Amazon Web Services   \n",
       "4  AIDAIQDWHFKP2XVDXFKFW       NaN   IAMUser  Amazon Web Services   \n",
       "\n",
       "   vendor_account vendor_region vpcEndpointId  maliciousIPClass  \n",
       "0    6.230000e+11     us-west-1           NaN                 0  \n",
       "1    6.230000e+11     us-west-1           NaN                 0  \n",
       "2    6.230000e+11     us-west-1           NaN                 0  \n",
       "3    6.230000e+11     us-west-1           NaN                 0  \n",
       "4    6.230000e+11     us-west-1           NaN                 0  \n",
       "\n",
       "[5 rows x 310 columns]"
      ],
      "text/html": "<div>\n<style scoped>\n    .dataframe tbody tr th:only-of-type {\n        vertical-align: middle;\n    }\n\n    .dataframe tbody tr th {\n        vertical-align: top;\n    }\n\n    .dataframe thead th {\n        text-align: right;\n    }\n</style>\n<table border=\"1\" class=\"dataframe\">\n  <thead>\n    <tr style=\"text-align: right;\">\n      <th></th>\n      <th>_bkt</th>\n      <th>_cd</th>\n      <th>_eventtype_color</th>\n      <th>_indextime</th>\n      <th>_raw</th>\n      <th>_sourcetype</th>\n      <th>_time</th>\n      <th>action</th>\n      <th>additionalEventData.LoginTo</th>\n      <th>additionalEventData.MFAUsed</th>\n      <th>...</th>\n      <th>user_arn</th>\n      <th>user_group_id</th>\n      <th>user_id</th>\n      <th>user_role</th>\n      <th>user_type</th>\n      <th>vendor</th>\n      <th>vendor_account</th>\n      <th>vendor_region</th>\n      <th>vpcEndpointId</th>\n      <th>maliciousIPClass</th>\n    </tr>\n  </thead>\n  <tbody>\n    <tr>\n      <th>0</th>\n      <td>botsv3~307~F1874916-CBDC-4E45-BC0A-518E1190B08E</td>\n      <td>307:1010563</td>\n      <td>NaN</td>\n      <td>2018-08-20 15:00:32</td>\n      <td>{\"requestParameters\": {\"filterSet\": {\"items\": ...</td>\n      <td>aws:cloudtrail</td>\n      <td>2018-08-20 14:53:30</td>\n      <td>NaN</td>\n      <td>NaN</td>\n      <td>NaN</td>\n      <td>...</td>\n      <td>arn:aws:iam::622676721278:user/splunk_access</td>\n      <td>6.230000e+11</td>\n      <td>AIDAIQDWHFKP2XVDXFKFW</td>\n      <td>NaN</td>\n      <td>IAMUser</td>\n      <td>Amazon Web Services</td>\n      <td>6.230000e+11</td>\n      <td>us-west-1</td>\n      <td>NaN</td>\n      <td>0</td>\n    </tr>\n    <tr>\n      <th>1</th>\n      <td>botsv3~307~F1874916-CBDC-4E45-BC0A-518E1190B08E</td>\n      <td>307:1010534</td>\n      <td>NaN</td>\n      <td>2018-08-20 15:00:32</td>\n      <td>{\"requestParameters\": {\"filterSet\": {\"items\": ...</td>\n      <td>aws:cloudtrail</td>\n      <td>2018-08-20 14:53:29</td>\n      <td>NaN</td>\n      <td>NaN</td>\n      <td>NaN</td>\n      <td>...</td>\n      <td>arn:aws:iam::622676721278:user/splunk_access</td>\n      <td>6.230000e+11</td>\n      <td>AIDAIQDWHFKP2XVDXFKFW</td>\n      <td>NaN</td>\n      <td>IAMUser</td>\n      <td>Amazon Web Services</td>\n      <td>6.230000e+11</td>\n      <td>us-west-1</td>\n      <td>NaN</td>\n      <td>0</td>\n    </tr>\n    <tr>\n      <th>2</th>\n      <td>botsv3~307~F1874916-CBDC-4E45-BC0A-518E1190B08E</td>\n      <td>307:1010505</td>\n      <td>NaN</td>\n      <td>2018-08-20 15:00:32</td>\n      <td>{\"requestParameters\": {\"filterSet\": {\"items\": ...</td>\n      <td>aws:cloudtrail</td>\n      <td>2018-08-20 14:53:29</td>\n      <td>NaN</td>\n      <td>NaN</td>\n      <td>NaN</td>\n      <td>...</td>\n      <td>arn:aws:iam::622676721278:user/splunk_access</td>\n      <td>6.230000e+11</td>\n      <td>AIDAIQDWHFKP2XVDXFKFW</td>\n      <td>NaN</td>\n      <td>IAMUser</td>\n      <td>Amazon Web Services</td>\n      <td>6.230000e+11</td>\n      <td>us-west-1</td>\n      <td>NaN</td>\n      <td>0</td>\n    </tr>\n    <tr>\n      <th>3</th>\n      <td>botsv3~307~F1874916-CBDC-4E45-BC0A-518E1190B08E</td>\n      <td>307:1010476</td>\n      <td>NaN</td>\n      <td>2018-08-20 15:00:32</td>\n      <td>{\"requestParameters\": {\"filterSet\": {\"items\": ...</td>\n      <td>aws:cloudtrail</td>\n      <td>2018-08-20 14:53:29</td>\n      <td>NaN</td>\n      <td>NaN</td>\n      <td>NaN</td>\n      <td>...</td>\n      <td>arn:aws:iam::622676721278:user/splunk_access</td>\n      <td>6.230000e+11</td>\n      <td>AIDAIQDWHFKP2XVDXFKFW</td>\n      <td>NaN</td>\n      <td>IAMUser</td>\n      <td>Amazon Web Services</td>\n      <td>6.230000e+11</td>\n      <td>us-west-1</td>\n      <td>NaN</td>\n      <td>0</td>\n    </tr>\n    <tr>\n      <th>4</th>\n      <td>botsv3~307~F1874916-CBDC-4E45-BC0A-518E1190B08E</td>\n      <td>307:1010450</td>\n      <td>NaN</td>\n      <td>2018-08-20 15:00:32</td>\n      <td>{\"requestParameters\": {\"securityGroupIdSet\": {...</td>\n      <td>aws:cloudtrail</td>\n      <td>2018-08-20 14:53:29</td>\n      <td>NaN</td>\n      <td>NaN</td>\n      <td>NaN</td>\n      <td>...</td>\n      <td>arn:aws:iam::622676721278:user/splunk_access</td>\n      <td>6.230000e+11</td>\n      <td>AIDAIQDWHFKP2XVDXFKFW</td>\n      <td>NaN</td>\n      <td>IAMUser</td>\n      <td>Amazon Web Services</td>\n      <td>6.230000e+11</td>\n      <td>us-west-1</td>\n      <td>NaN</td>\n      <td>0</td>\n    </tr>\n  </tbody>\n</table>\n<p>5 rows × 310 columns</p>\n</div>"
     },
     "metadata": {},
     "execution_count": 34
    }
   ],
   "source": [
    "\n",
    "df['_time'] = pd.to_datetime(df['_time'], unit='s')\n",
    "df['_indextime'] = pd.to_datetime(df['_indextime'], unit='s')\n",
    "df['maliciousIPClass'] = maliciousIPClass\n",
    "df.head()"
   ]
  },
  {
   "cell_type": "code",
   "execution_count": 35,
   "metadata": {},
   "outputs": [
    {
     "output_type": "execute_result",
     "data": {
      "text/plain": [
       "                                                 _bkt         _cd  \\\n",
       "4577  botsv3~303~F1874916-CBDC-4E45-BC0A-518E1190B08E  303:171332   \n",
       "4575  botsv3~303~F1874916-CBDC-4E45-BC0A-518E1190B08E  303:171388   \n",
       "4576  botsv3~303~F1874916-CBDC-4E45-BC0A-518E1190B08E  303:171360   \n",
       "4578  botsv3~303~F1874916-CBDC-4E45-BC0A-518E1190B08E  303:171304   \n",
       "4574  botsv3~303~F1874916-CBDC-4E45-BC0A-518E1190B08E  303:171416   \n",
       "\n",
       "     _eventtype_color          _indextime  \\\n",
       "4577              NaN 2018-08-20 09:09:19   \n",
       "4575              NaN 2018-08-20 09:09:19   \n",
       "4576              NaN 2018-08-20 09:09:19   \n",
       "4578              NaN 2018-08-20 09:09:19   \n",
       "4574              NaN 2018-08-20 09:09:19   \n",
       "\n",
       "                                                   _raw     _sourcetype  \\\n",
       "4577  {\"sourceIPAddress\": \"34.215.24.225\", \"eventTim...  aws:cloudtrail   \n",
       "4575  {\"sourceIPAddress\": \"34.215.24.225\", \"eventTim...  aws:cloudtrail   \n",
       "4576  {\"sourceIPAddress\": \"34.215.24.225\", \"eventTim...  aws:cloudtrail   \n",
       "4578  {\"sourceIPAddress\": \"34.215.24.225\", \"eventTim...  aws:cloudtrail   \n",
       "4574  {\"sourceIPAddress\": \"34.215.24.225\", \"eventTim...  aws:cloudtrail   \n",
       "\n",
       "                   _time action additionalEventData.LoginTo  \\\n",
       "4577 2018-08-20 09:01:54    NaN                         NaN   \n",
       "4575 2018-08-20 09:01:54    NaN                         NaN   \n",
       "4576 2018-08-20 09:01:54    NaN                         NaN   \n",
       "4578 2018-08-20 09:01:56    NaN                         NaN   \n",
       "4574 2018-08-20 09:02:00    NaN                         NaN   \n",
       "\n",
       "     additionalEventData.MFAUsed  ...  \\\n",
       "4577                         NaN  ...   \n",
       "4575                         NaN  ...   \n",
       "4576                         NaN  ...   \n",
       "4578                         NaN  ...   \n",
       "4574                         NaN  ...   \n",
       "\n",
       "                                          user_arn user_group_id  \\\n",
       "4577  arn:aws:iam::622676721278:user/splunk_access  6.230000e+11   \n",
       "4575  arn:aws:iam::622676721278:user/splunk_access  6.230000e+11   \n",
       "4576  arn:aws:iam::622676721278:user/splunk_access  6.230000e+11   \n",
       "4578  arn:aws:iam::622676721278:user/splunk_access  6.230000e+11   \n",
       "4574  arn:aws:iam::622676721278:user/splunk_access  6.230000e+11   \n",
       "\n",
       "                    user_id user_role user_type               vendor  \\\n",
       "4577  AIDAIQDWHFKP2XVDXFKFW       NaN   IAMUser  Amazon Web Services   \n",
       "4575  AIDAIQDWHFKP2XVDXFKFW       NaN   IAMUser  Amazon Web Services   \n",
       "4576  AIDAIQDWHFKP2XVDXFKFW       NaN   IAMUser  Amazon Web Services   \n",
       "4578  AIDAIQDWHFKP2XVDXFKFW       NaN   IAMUser  Amazon Web Services   \n",
       "4574  AIDAIQDWHFKP2XVDXFKFW       NaN   IAMUser  Amazon Web Services   \n",
       "\n",
       "      vendor_account vendor_region vpcEndpointId  maliciousIPClass  \n",
       "4577    6.230000e+11     us-east-1           NaN                 0  \n",
       "4575    6.230000e+11     us-east-1           NaN                 0  \n",
       "4576    6.230000e+11     us-east-1           NaN                 0  \n",
       "4578    6.230000e+11     us-east-1           NaN                 0  \n",
       "4574    6.230000e+11     us-east-1           NaN                 0  \n",
       "\n",
       "[5 rows x 310 columns]"
      ],
      "text/html": "<div>\n<style scoped>\n    .dataframe tbody tr th:only-of-type {\n        vertical-align: middle;\n    }\n\n    .dataframe tbody tr th {\n        vertical-align: top;\n    }\n\n    .dataframe thead th {\n        text-align: right;\n    }\n</style>\n<table border=\"1\" class=\"dataframe\">\n  <thead>\n    <tr style=\"text-align: right;\">\n      <th></th>\n      <th>_bkt</th>\n      <th>_cd</th>\n      <th>_eventtype_color</th>\n      <th>_indextime</th>\n      <th>_raw</th>\n      <th>_sourcetype</th>\n      <th>_time</th>\n      <th>action</th>\n      <th>additionalEventData.LoginTo</th>\n      <th>additionalEventData.MFAUsed</th>\n      <th>...</th>\n      <th>user_arn</th>\n      <th>user_group_id</th>\n      <th>user_id</th>\n      <th>user_role</th>\n      <th>user_type</th>\n      <th>vendor</th>\n      <th>vendor_account</th>\n      <th>vendor_region</th>\n      <th>vpcEndpointId</th>\n      <th>maliciousIPClass</th>\n    </tr>\n  </thead>\n  <tbody>\n    <tr>\n      <th>4577</th>\n      <td>botsv3~303~F1874916-CBDC-4E45-BC0A-518E1190B08E</td>\n      <td>303:171332</td>\n      <td>NaN</td>\n      <td>2018-08-20 09:09:19</td>\n      <td>{\"sourceIPAddress\": \"34.215.24.225\", \"eventTim...</td>\n      <td>aws:cloudtrail</td>\n      <td>2018-08-20 09:01:54</td>\n      <td>NaN</td>\n      <td>NaN</td>\n      <td>NaN</td>\n      <td>...</td>\n      <td>arn:aws:iam::622676721278:user/splunk_access</td>\n      <td>6.230000e+11</td>\n      <td>AIDAIQDWHFKP2XVDXFKFW</td>\n      <td>NaN</td>\n      <td>IAMUser</td>\n      <td>Amazon Web Services</td>\n      <td>6.230000e+11</td>\n      <td>us-east-1</td>\n      <td>NaN</td>\n      <td>0</td>\n    </tr>\n    <tr>\n      <th>4575</th>\n      <td>botsv3~303~F1874916-CBDC-4E45-BC0A-518E1190B08E</td>\n      <td>303:171388</td>\n      <td>NaN</td>\n      <td>2018-08-20 09:09:19</td>\n      <td>{\"sourceIPAddress\": \"34.215.24.225\", \"eventTim...</td>\n      <td>aws:cloudtrail</td>\n      <td>2018-08-20 09:01:54</td>\n      <td>NaN</td>\n      <td>NaN</td>\n      <td>NaN</td>\n      <td>...</td>\n      <td>arn:aws:iam::622676721278:user/splunk_access</td>\n      <td>6.230000e+11</td>\n      <td>AIDAIQDWHFKP2XVDXFKFW</td>\n      <td>NaN</td>\n      <td>IAMUser</td>\n      <td>Amazon Web Services</td>\n      <td>6.230000e+11</td>\n      <td>us-east-1</td>\n      <td>NaN</td>\n      <td>0</td>\n    </tr>\n    <tr>\n      <th>4576</th>\n      <td>botsv3~303~F1874916-CBDC-4E45-BC0A-518E1190B08E</td>\n      <td>303:171360</td>\n      <td>NaN</td>\n      <td>2018-08-20 09:09:19</td>\n      <td>{\"sourceIPAddress\": \"34.215.24.225\", \"eventTim...</td>\n      <td>aws:cloudtrail</td>\n      <td>2018-08-20 09:01:54</td>\n      <td>NaN</td>\n      <td>NaN</td>\n      <td>NaN</td>\n      <td>...</td>\n      <td>arn:aws:iam::622676721278:user/splunk_access</td>\n      <td>6.230000e+11</td>\n      <td>AIDAIQDWHFKP2XVDXFKFW</td>\n      <td>NaN</td>\n      <td>IAMUser</td>\n      <td>Amazon Web Services</td>\n      <td>6.230000e+11</td>\n      <td>us-east-1</td>\n      <td>NaN</td>\n      <td>0</td>\n    </tr>\n    <tr>\n      <th>4578</th>\n      <td>botsv3~303~F1874916-CBDC-4E45-BC0A-518E1190B08E</td>\n      <td>303:171304</td>\n      <td>NaN</td>\n      <td>2018-08-20 09:09:19</td>\n      <td>{\"sourceIPAddress\": \"34.215.24.225\", \"eventTim...</td>\n      <td>aws:cloudtrail</td>\n      <td>2018-08-20 09:01:56</td>\n      <td>NaN</td>\n      <td>NaN</td>\n      <td>NaN</td>\n      <td>...</td>\n      <td>arn:aws:iam::622676721278:user/splunk_access</td>\n      <td>6.230000e+11</td>\n      <td>AIDAIQDWHFKP2XVDXFKFW</td>\n      <td>NaN</td>\n      <td>IAMUser</td>\n      <td>Amazon Web Services</td>\n      <td>6.230000e+11</td>\n      <td>us-east-1</td>\n      <td>NaN</td>\n      <td>0</td>\n    </tr>\n    <tr>\n      <th>4574</th>\n      <td>botsv3~303~F1874916-CBDC-4E45-BC0A-518E1190B08E</td>\n      <td>303:171416</td>\n      <td>NaN</td>\n      <td>2018-08-20 09:09:19</td>\n      <td>{\"sourceIPAddress\": \"34.215.24.225\", \"eventTim...</td>\n      <td>aws:cloudtrail</td>\n      <td>2018-08-20 09:02:00</td>\n      <td>NaN</td>\n      <td>NaN</td>\n      <td>NaN</td>\n      <td>...</td>\n      <td>arn:aws:iam::622676721278:user/splunk_access</td>\n      <td>6.230000e+11</td>\n      <td>AIDAIQDWHFKP2XVDXFKFW</td>\n      <td>NaN</td>\n      <td>IAMUser</td>\n      <td>Amazon Web Services</td>\n      <td>6.230000e+11</td>\n      <td>us-east-1</td>\n      <td>NaN</td>\n      <td>0</td>\n    </tr>\n  </tbody>\n</table>\n<p>5 rows × 310 columns</p>\n</div>"
     },
     "metadata": {},
     "execution_count": 35
    }
   ],
   "source": [
    "df = df.sort_values('_time')\n",
    "df.head()"
   ]
  },
  {
   "cell_type": "code",
   "execution_count": 36,
   "metadata": {},
   "outputs": [
    {
     "output_type": "execute_result",
     "data": {
      "text/plain": [
       "                    sourceIPAddress\n",
       "_time                              \n",
       "2018-08-20 09:01:54   34.215.24.225\n",
       "2018-08-20 09:01:54   34.215.24.225\n",
       "2018-08-20 09:01:54   34.215.24.225\n",
       "2018-08-20 09:01:56   34.215.24.225\n",
       "2018-08-20 09:02:00   34.215.24.225"
      ],
      "text/html": "<div>\n<style scoped>\n    .dataframe tbody tr th:only-of-type {\n        vertical-align: middle;\n    }\n\n    .dataframe tbody tr th {\n        vertical-align: top;\n    }\n\n    .dataframe thead th {\n        text-align: right;\n    }\n</style>\n<table border=\"1\" class=\"dataframe\">\n  <thead>\n    <tr style=\"text-align: right;\">\n      <th></th>\n      <th>sourceIPAddress</th>\n    </tr>\n    <tr>\n      <th>_time</th>\n      <th></th>\n    </tr>\n  </thead>\n  <tbody>\n    <tr>\n      <th>2018-08-20 09:01:54</th>\n      <td>34.215.24.225</td>\n    </tr>\n    <tr>\n      <th>2018-08-20 09:01:54</th>\n      <td>34.215.24.225</td>\n    </tr>\n    <tr>\n      <th>2018-08-20 09:01:54</th>\n      <td>34.215.24.225</td>\n    </tr>\n    <tr>\n      <th>2018-08-20 09:01:56</th>\n      <td>34.215.24.225</td>\n    </tr>\n    <tr>\n      <th>2018-08-20 09:02:00</th>\n      <td>34.215.24.225</td>\n    </tr>\n  </tbody>\n</table>\n</div>"
     },
     "metadata": {},
     "execution_count": 36
    }
   ],
   "source": [
    "df_aggr = df[['_time','sourceIPAddress']]\n",
    "df_aggr.set_index('_time', inplace=True, drop=True)\n",
    "df_aggr.head()"
   ]
  },
  {
   "cell_type": "code",
   "execution_count": 37,
   "metadata": {},
   "outputs": [
    {
     "output_type": "execute_result",
     "data": {
      "text/plain": [
       "sourceIPAddress      107.77.212.175  139.198.18.205  157.97.121.132  \\\n",
       "_time                                                                 \n",
       "2018-08-20 09:00:00               0               0               0   \n",
       "2018-08-20 09:10:00               0             365               0   \n",
       "2018-08-20 09:20:00               0             272               0   \n",
       "2018-08-20 09:30:00               0               0              19   \n",
       "2018-08-20 09:40:00               0               0               0   \n",
       "\n",
       "sourceIPAddress      209.107.196.112  34.215.24.225  35.153.154.221  \\\n",
       "_time                                                                 \n",
       "2018-08-20 09:00:00                0            250               0   \n",
       "2018-08-20 09:10:00                1             82               6   \n",
       "2018-08-20 09:20:00                0             80               0   \n",
       "2018-08-20 09:30:00                0             42               0   \n",
       "2018-08-20 09:40:00                0             41               0   \n",
       "\n",
       "sourceIPAddress      54.240.198.66  54.240.198.68  54.240.198.98  \\\n",
       "_time                                                              \n",
       "2018-08-20 09:00:00              0              0              0   \n",
       "2018-08-20 09:10:00              0              0              0   \n",
       "2018-08-20 09:20:00              0              0              0   \n",
       "2018-08-20 09:30:00              0              0              0   \n",
       "2018-08-20 09:40:00              0              0              0   \n",
       "\n",
       "sourceIPAddress      68.133.81.54  ...  68.133.85.173  68.133.86.151  \\\n",
       "_time                              ...                                 \n",
       "2018-08-20 09:00:00             0  ...              0              0   \n",
       "2018-08-20 09:10:00             0  ...              0              0   \n",
       "2018-08-20 09:20:00             0  ...              0              0   \n",
       "2018-08-20 09:30:00             0  ...              0              0   \n",
       "2018-08-20 09:40:00             0  ...              0              0   \n",
       "\n",
       "sourceIPAddress      68.133.86.157  68.133.89.107  68.133.89.13  68.133.89.65  \\\n",
       "_time                                                                           \n",
       "2018-08-20 09:00:00              0              0             0             0   \n",
       "2018-08-20 09:10:00              0              0             0             0   \n",
       "2018-08-20 09:20:00              0              0             0             0   \n",
       "2018-08-20 09:30:00              0              0             0             0   \n",
       "2018-08-20 09:40:00              0              0             0             0   \n",
       "\n",
       "sourceIPAddress      68.133.89.7  82.102.18.111  AWS Internal  \\\n",
       "_time                                                           \n",
       "2018-08-20 09:00:00            0              0             0   \n",
       "2018-08-20 09:10:00            0              0             0   \n",
       "2018-08-20 09:20:00            0              2             0   \n",
       "2018-08-20 09:30:00            0              0             0   \n",
       "2018-08-20 09:40:00            0              0             0   \n",
       "\n",
       "sourceIPAddress      lambda.amazonaws.com  \n",
       "_time                                      \n",
       "2018-08-20 09:00:00                     5  \n",
       "2018-08-20 09:10:00                     0  \n",
       "2018-08-20 09:20:00                     0  \n",
       "2018-08-20 09:30:00                     0  \n",
       "2018-08-20 09:40:00                     0  \n",
       "\n",
       "[5 rows x 21 columns]"
      ],
      "text/html": "<div>\n<style scoped>\n    .dataframe tbody tr th:only-of-type {\n        vertical-align: middle;\n    }\n\n    .dataframe tbody tr th {\n        vertical-align: top;\n    }\n\n    .dataframe thead th {\n        text-align: right;\n    }\n</style>\n<table border=\"1\" class=\"dataframe\">\n  <thead>\n    <tr style=\"text-align: right;\">\n      <th>sourceIPAddress</th>\n      <th>107.77.212.175</th>\n      <th>139.198.18.205</th>\n      <th>157.97.121.132</th>\n      <th>209.107.196.112</th>\n      <th>34.215.24.225</th>\n      <th>35.153.154.221</th>\n      <th>54.240.198.66</th>\n      <th>54.240.198.68</th>\n      <th>54.240.198.98</th>\n      <th>68.133.81.54</th>\n      <th>...</th>\n      <th>68.133.85.173</th>\n      <th>68.133.86.151</th>\n      <th>68.133.86.157</th>\n      <th>68.133.89.107</th>\n      <th>68.133.89.13</th>\n      <th>68.133.89.65</th>\n      <th>68.133.89.7</th>\n      <th>82.102.18.111</th>\n      <th>AWS Internal</th>\n      <th>lambda.amazonaws.com</th>\n    </tr>\n    <tr>\n      <th>_time</th>\n      <th></th>\n      <th></th>\n      <th></th>\n      <th></th>\n      <th></th>\n      <th></th>\n      <th></th>\n      <th></th>\n      <th></th>\n      <th></th>\n      <th></th>\n      <th></th>\n      <th></th>\n      <th></th>\n      <th></th>\n      <th></th>\n      <th></th>\n      <th></th>\n      <th></th>\n      <th></th>\n      <th></th>\n    </tr>\n  </thead>\n  <tbody>\n    <tr>\n      <th>2018-08-20 09:00:00</th>\n      <td>0</td>\n      <td>0</td>\n      <td>0</td>\n      <td>0</td>\n      <td>250</td>\n      <td>0</td>\n      <td>0</td>\n      <td>0</td>\n      <td>0</td>\n      <td>0</td>\n      <td>...</td>\n      <td>0</td>\n      <td>0</td>\n      <td>0</td>\n      <td>0</td>\n      <td>0</td>\n      <td>0</td>\n      <td>0</td>\n      <td>0</td>\n      <td>0</td>\n      <td>5</td>\n    </tr>\n    <tr>\n      <th>2018-08-20 09:10:00</th>\n      <td>0</td>\n      <td>365</td>\n      <td>0</td>\n      <td>1</td>\n      <td>82</td>\n      <td>6</td>\n      <td>0</td>\n      <td>0</td>\n      <td>0</td>\n      <td>0</td>\n      <td>...</td>\n      <td>0</td>\n      <td>0</td>\n      <td>0</td>\n      <td>0</td>\n      <td>0</td>\n      <td>0</td>\n      <td>0</td>\n      <td>0</td>\n      <td>0</td>\n      <td>0</td>\n    </tr>\n    <tr>\n      <th>2018-08-20 09:20:00</th>\n      <td>0</td>\n      <td>272</td>\n      <td>0</td>\n      <td>0</td>\n      <td>80</td>\n      <td>0</td>\n      <td>0</td>\n      <td>0</td>\n      <td>0</td>\n      <td>0</td>\n      <td>...</td>\n      <td>0</td>\n      <td>0</td>\n      <td>0</td>\n      <td>0</td>\n      <td>0</td>\n      <td>0</td>\n      <td>0</td>\n      <td>2</td>\n      <td>0</td>\n      <td>0</td>\n    </tr>\n    <tr>\n      <th>2018-08-20 09:30:00</th>\n      <td>0</td>\n      <td>0</td>\n      <td>19</td>\n      <td>0</td>\n      <td>42</td>\n      <td>0</td>\n      <td>0</td>\n      <td>0</td>\n      <td>0</td>\n      <td>0</td>\n      <td>...</td>\n      <td>0</td>\n      <td>0</td>\n      <td>0</td>\n      <td>0</td>\n      <td>0</td>\n      <td>0</td>\n      <td>0</td>\n      <td>0</td>\n      <td>0</td>\n      <td>0</td>\n    </tr>\n    <tr>\n      <th>2018-08-20 09:40:00</th>\n      <td>0</td>\n      <td>0</td>\n      <td>0</td>\n      <td>0</td>\n      <td>41</td>\n      <td>0</td>\n      <td>0</td>\n      <td>0</td>\n      <td>0</td>\n      <td>0</td>\n      <td>...</td>\n      <td>0</td>\n      <td>0</td>\n      <td>0</td>\n      <td>0</td>\n      <td>0</td>\n      <td>0</td>\n      <td>0</td>\n      <td>0</td>\n      <td>0</td>\n      <td>0</td>\n    </tr>\n  </tbody>\n</table>\n<p>5 rows × 21 columns</p>\n</div>"
     },
     "metadata": {},
     "execution_count": 37
    }
   ],
   "source": [
    "df_aggr_pivoted = df_aggr.pivot_table(\n",
    "    index='_time',\n",
    "    columns='sourceIPAddress',\n",
    "    aggfunc='size',\n",
    "    fill_value=0\n",
    "    )\n",
    "df_aggr_pivoted = df_aggr_pivoted.resample(\"10T\").sum()\n",
    "df_aggr_pivoted.head()"
   ]
  },
  {
   "cell_type": "code",
   "execution_count": 38,
   "metadata": {},
   "outputs": [
    {
     "output_type": "stream",
     "name": "stdout",
     "text": [
      "['us-east-1', 'us-west-2', 'us-west-1', 'ap-northeast-2', 'sa-east-1', 'ap-southeast-1', 'ca-central-1', 'ap-northeast-1', 'ap-southeast-2', 'us-east-2', 'eu-west-1', 'ap-south-1', 'eu-west-3', 'eu-west-2', 'eu-central-1']\n"
     ]
    }
   ],
   "source": [
    "error_codes = df['errorCode'].unique().tolist()\n",
    "region = df['region'].unique().tolist()\n",
    "print(region)"
   ]
  },
  {
   "cell_type": "code",
   "execution_count": 39,
   "metadata": {},
   "outputs": [
    {
     "output_type": "execute_result",
     "data": {
      "text/plain": [
       "                    errorCode sourceIPAddress\n",
       "_time                                        \n",
       "2018-08-20 09:01:54   success   34.215.24.225\n",
       "2018-08-20 09:01:54   success   34.215.24.225\n",
       "2018-08-20 09:01:54   success   34.215.24.225\n",
       "2018-08-20 09:01:56   success   34.215.24.225\n",
       "2018-08-20 09:02:00   success   34.215.24.225"
      ],
      "text/html": "<div>\n<style scoped>\n    .dataframe tbody tr th:only-of-type {\n        vertical-align: middle;\n    }\n\n    .dataframe tbody tr th {\n        vertical-align: top;\n    }\n\n    .dataframe thead th {\n        text-align: right;\n    }\n</style>\n<table border=\"1\" class=\"dataframe\">\n  <thead>\n    <tr style=\"text-align: right;\">\n      <th></th>\n      <th>errorCode</th>\n      <th>sourceIPAddress</th>\n    </tr>\n    <tr>\n      <th>_time</th>\n      <th></th>\n      <th></th>\n    </tr>\n  </thead>\n  <tbody>\n    <tr>\n      <th>2018-08-20 09:01:54</th>\n      <td>success</td>\n      <td>34.215.24.225</td>\n    </tr>\n    <tr>\n      <th>2018-08-20 09:01:54</th>\n      <td>success</td>\n      <td>34.215.24.225</td>\n    </tr>\n    <tr>\n      <th>2018-08-20 09:01:54</th>\n      <td>success</td>\n      <td>34.215.24.225</td>\n    </tr>\n    <tr>\n      <th>2018-08-20 09:01:56</th>\n      <td>success</td>\n      <td>34.215.24.225</td>\n    </tr>\n    <tr>\n      <th>2018-08-20 09:02:00</th>\n      <td>success</td>\n      <td>34.215.24.225</td>\n    </tr>\n  </tbody>\n</table>\n</div>"
     },
     "metadata": {},
     "execution_count": 39
    }
   ],
   "source": [
    "df_main = df[['_time','errorCode','sourceIPAddress']]\n",
    "df_main.set_index('_time',inplace = True, drop= True)\n",
    "df_main.head()"
   ]
  },
  {
   "cell_type": "code",
   "execution_count": 40,
   "metadata": {},
   "outputs": [],
   "source": [
    "labelEncode = preprocessing.LabelEncoder()\n",
    "\n",
    "labelEncode.fit([\n",
    "    'success', 'NoSuchLifecycleConfiguration', 'NoSuchCORSConfiguration',\n",
    "    'NoSuchTagSet', 'AccessDenied', 'NoSuchEntityException',\n",
    "    'Client.UnauthorizedOperation', 'Client.InstanceLimitExceeded',\n",
    "    'Client.Unsupported', 'Server.InsufficientInstanceCapacity',\n",
    "    'NoSuchBucketPolicy', 'ReplicationConfigurationNotFoundError',\n",
    "    'NoSuchWebsiteConfiguration'\n",
    "    ])\n",
    "\n",
    "errorCodeClass = labelEncode.transform(df['errorCode'])\n",
    "\n",
    "labelEncode.fit([\n",
    "    'us-east-1',\n",
    "    'us-west-1',\n",
    "    'us-west-2',\n",
    "    'ap-northeast-2',\n",
    "    'sa-east-1',\n",
    "    'ap-southeast-1',\n",
    "    'ca-central-1',\n",
    "    'ap-northeast-1',\n",
    "    'ap-southeast-2',\n",
    "    'us-east-2',\n",
    "    'eu-west-1',\n",
    "    'ap-south-1',\n",
    "    'eu-west-3',\n",
    "    'eu-west-2',\n",
    "    'eu-central-1'\n",
    "    ])\n",
    "\n",
    "regionClass = labelEncode.transform(df['region'])"
   ]
  },
  {
   "cell_type": "code",
   "execution_count": 44,
   "metadata": {},
   "outputs": [
    {
     "output_type": "execute_result",
     "data": {
      "text/plain": [
       "   errorCodeClass  maliciousIPClass  region sourceIPAddress\n",
       "0              12                 0      11   34.215.24.225\n",
       "1              12                 0      11   34.215.24.225\n",
       "2              12                 0      11   34.215.24.225\n",
       "3              12                 0      11   34.215.24.225\n",
       "4              12                 0      11   34.215.24.225"
      ],
      "text/html": "<div>\n<style scoped>\n    .dataframe tbody tr th:only-of-type {\n        vertical-align: middle;\n    }\n\n    .dataframe tbody tr th {\n        vertical-align: top;\n    }\n\n    .dataframe thead th {\n        text-align: right;\n    }\n</style>\n<table border=\"1\" class=\"dataframe\">\n  <thead>\n    <tr style=\"text-align: right;\">\n      <th></th>\n      <th>errorCodeClass</th>\n      <th>maliciousIPClass</th>\n      <th>region</th>\n      <th>sourceIPAddress</th>\n    </tr>\n  </thead>\n  <tbody>\n    <tr>\n      <th>0</th>\n      <td>12</td>\n      <td>0</td>\n      <td>11</td>\n      <td>34.215.24.225</td>\n    </tr>\n    <tr>\n      <th>1</th>\n      <td>12</td>\n      <td>0</td>\n      <td>11</td>\n      <td>34.215.24.225</td>\n    </tr>\n    <tr>\n      <th>2</th>\n      <td>12</td>\n      <td>0</td>\n      <td>11</td>\n      <td>34.215.24.225</td>\n    </tr>\n    <tr>\n      <th>3</th>\n      <td>12</td>\n      <td>0</td>\n      <td>11</td>\n      <td>34.215.24.225</td>\n    </tr>\n    <tr>\n      <th>4</th>\n      <td>12</td>\n      <td>0</td>\n      <td>11</td>\n      <td>34.215.24.225</td>\n    </tr>\n  </tbody>\n</table>\n</div>"
     },
     "metadata": {},
     "execution_count": 44
    }
   ],
   "source": [
    "df_temp = pd.DataFrame()\n",
    "df_temp['errorCodeClass'] = errorCodeClass\n",
    "df_temp['maliciousIPClass'] = df['maliciousIPClass']\n",
    "df_temp['region'] = regionClass\n",
    "df_temp['sourceIPAddress'] = df['sourceIPAddress']\n",
    "\n",
    "df_temp.head()"
   ]
  },
  {
   "cell_type": "code",
   "execution_count": 53,
   "metadata": {},
   "outputs": [
    {
     "output_type": "stream",
     "name": "stdout",
     "text": [
      "[0.88440367 0.88440367 0.88440367 0.88256881 0.88256881 0.88256881\n 0.88256881 0.88256881 0.88256881 0.88256881]\n"
     ]
    }
   ],
   "source": [
    "#features = ['region','errorCodeClass']\n",
    "validation = [i for i in df_temp['maliciousIPClass']]\n",
    "data = []\n",
    "\n",
    "for index,row in df_temp.iterrows():\n",
    "    data.append([row['errorCodeClass'], row['region']])\n",
    "\n",
    "x_train, x_test, y_train, y_test = train_test_split(\n",
    "    data,\n",
    "    validation,\n",
    "    test_size=0.2,\n",
    "    random_state = 100\n",
    "    )\n",
    "\n",
    "classifier = LogisticRegression()\n",
    "            \n",
    "classifier.fit(x_train, y_train)\n",
    "y_pred = classifier.predict(x_test)\n",
    "scores = cross_val_score(classifier, data, validation, cv=10)\n",
    "\n",
    "print(scores)"
   ]
  }
 ]
}